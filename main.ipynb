{
 "cells": [
  {
   "cell_type": "code",
   "execution_count": 1,
   "metadata": {},
   "outputs": [],
   "source": [
    "import numpy as np\n",
    "import pandas as pd\n",
    "import matplotlib\n",
    "import matplotlib.pyplot as plt\n",
    "import seaborn as sns\n",
    "import pvlib\n",
    "from sklearn.preprocessing import MinMaxScaler\n",
    "scaler = MinMaxScaler()"
   ]
  },
  {
   "cell_type": "code",
   "execution_count": 2,
   "metadata": {},
   "outputs": [],
   "source": [
    "weather = pd.read_csv(\"weather.csv\")\n",
    "temp_data = pd.DataFrame(weather.tavg)\n",
    "weather.index = pd.date_range(start='2012-01-01', end='20-07-25', freq='D')"
   ]
  },
  {
   "cell_type": "code",
   "execution_count": 3,
   "metadata": {},
   "outputs": [],
   "source": [
    "temp_data.index = weather.index"
   ]
  },
  {
   "cell_type": "code",
   "execution_count": 4,
   "metadata": {},
   "outputs": [
    {
     "name": "stdout",
     "output_type": "stream",
     "text": [
      "            Energy_Generated_KWh  Temperature_C\n",
      "2020-01-01              4.071623           22.0\n",
      "2020-01-02              4.069567           22.2\n",
      "2020-01-03              4.067503           23.4\n",
      "2020-01-04              4.065434           23.6\n",
      "2020-01-05              4.063364           24.2\n",
      "...                          ...            ...\n",
      "2022-07-21              3.941051           23.7\n",
      "2022-07-22              3.941010           23.2\n",
      "2022-07-23              3.941004           23.1\n",
      "2022-07-24              3.941034           22.8\n",
      "2022-07-25              3.941100           24.1\n",
      "\n",
      "[937 rows x 2 columns]\n"
     ]
    }
   ],
   "source": [
    "import pandas as pd\n",
    "import pvlib\n",
    "\n",
    "# Set location information (latitude, longitude, and elevation)\n",
    "latitude = 12.971598\n",
    "longitude = 77.594562\n",
    "altitude = 920\n",
    "tz = 'Asia/Kolkata'\n",
    "\n",
    "weather_data = temp_data\n",
    "times = weather_data.index\n",
    "location = pvlib.location.Location(latitude, longitude, tz=tz)\n",
    "\n",
    "# Calculate solar position\n",
    "solar_position = pvlib.solarposition.get_solarposition(times, latitude, longitude)\n",
    "\n",
    "# Calculate extraterrestrial radiation\n",
    "dni_extra = pvlib.irradiance.get_extra_radiation(times)\n",
    "\n",
    "# Calculate air mass, replacing NaN values with a default value (e.g., 10)\n",
    "airmass = pvlib.atmosphere.get_relative_airmass(solar_position['apparent_zenith']).fillna(10)\n",
    "\n",
    "# Assuming no direct horizontal irradiance (dhi) available, set it to zero\n",
    "dhi = pd.Series(0, index=times)\n",
    "\n",
    "# Calculate the solar panel tilt and azimuth dynamically based on solar position\n",
    "solar_panel_tilt = 90 - solar_position['apparent_elevation']\n",
    "solar_panel_azimuth = solar_position['azimuth']\n",
    "\n",
    "# Ensure tilt values are within a reasonable range (0 to 90 degrees)\n",
    "solar_panel_tilt = solar_panel_tilt.clip(0, 90)\n",
    "\n",
    "# Use temperature data from your CSV file\n",
    "temp_air = weather_data['tavg']\n",
    "\n",
    "# Calculate total radiation on a tilted surface with dynamic tilt and azimuth\n",
    "total_irradiance_dynamic = pvlib.irradiance.get_total_irradiance(\n",
    "    solar_panel_tilt, solar_panel_azimuth, solar_position['apparent_zenith'],\n",
    "    solar_position['azimuth'], dni_extra, dhi, airmass)\n",
    "\n",
    "# Convert irradiance to energy (assuming a 1 kW system)\n",
    "system_size_kw = 3\n",
    "energy_dynamic = total_irradiance_dynamic * system_size_kw/1000\n",
    "\n",
    "# Create a pandas DataFrame to store the results\n",
    "result_df_dynamic = pd.DataFrame(index=times)\n",
    "result_df_dynamic['Energy_Generated_KWh'] = energy_dynamic['poa_global']\n",
    "result_df_dynamic['Temperature_C'] = temp_air  # Use the existing temperature data\n",
    "\n",
    "# Print the resulting DataFrame with dynamic tilt and azimuth\n",
    "print(result_df_dynamic)\n"
   ]
  },
  {
   "cell_type": "code",
   "execution_count": 8,
   "metadata": {},
   "outputs": [
    {
     "data": {
      "text/html": [
       "<div>\n",
       "<style scoped>\n",
       "    .dataframe tbody tr th:only-of-type {\n",
       "        vertical-align: middle;\n",
       "    }\n",
       "\n",
       "    .dataframe tbody tr th {\n",
       "        vertical-align: top;\n",
       "    }\n",
       "\n",
       "    .dataframe thead th {\n",
       "        text-align: right;\n",
       "    }\n",
       "</style>\n",
       "<table border=\"1\" class=\"dataframe\">\n",
       "  <thead>\n",
       "    <tr style=\"text-align: right;\">\n",
       "      <th></th>\n",
       "      <th>tavg</th>\n",
       "    </tr>\n",
       "  </thead>\n",
       "  <tbody>\n",
       "    <tr>\n",
       "      <th>2020-01-01</th>\n",
       "      <td>22.0</td>\n",
       "    </tr>\n",
       "    <tr>\n",
       "      <th>2020-01-02</th>\n",
       "      <td>22.2</td>\n",
       "    </tr>\n",
       "    <tr>\n",
       "      <th>2020-01-03</th>\n",
       "      <td>23.4</td>\n",
       "    </tr>\n",
       "    <tr>\n",
       "      <th>2020-01-04</th>\n",
       "      <td>23.6</td>\n",
       "    </tr>\n",
       "    <tr>\n",
       "      <th>2020-01-05</th>\n",
       "      <td>24.2</td>\n",
       "    </tr>\n",
       "    <tr>\n",
       "      <th>...</th>\n",
       "      <td>...</td>\n",
       "    </tr>\n",
       "    <tr>\n",
       "      <th>2022-07-21</th>\n",
       "      <td>23.7</td>\n",
       "    </tr>\n",
       "    <tr>\n",
       "      <th>2022-07-22</th>\n",
       "      <td>23.2</td>\n",
       "    </tr>\n",
       "    <tr>\n",
       "      <th>2022-07-23</th>\n",
       "      <td>23.1</td>\n",
       "    </tr>\n",
       "    <tr>\n",
       "      <th>2022-07-24</th>\n",
       "      <td>22.8</td>\n",
       "    </tr>\n",
       "    <tr>\n",
       "      <th>2022-07-25</th>\n",
       "      <td>24.1</td>\n",
       "    </tr>\n",
       "  </tbody>\n",
       "</table>\n",
       "<p>937 rows × 1 columns</p>\n",
       "</div>"
      ],
      "text/plain": [
       "            tavg\n",
       "2020-01-01  22.0\n",
       "2020-01-02  22.2\n",
       "2020-01-03  23.4\n",
       "2020-01-04  23.6\n",
       "2020-01-05  24.2\n",
       "...          ...\n",
       "2022-07-21  23.7\n",
       "2022-07-22  23.2\n",
       "2022-07-23  23.1\n",
       "2022-07-24  22.8\n",
       "2022-07-25  24.1\n",
       "\n",
       "[937 rows x 1 columns]"
      ]
     },
     "execution_count": 8,
     "metadata": {},
     "output_type": "execute_result"
    }
   ],
   "source": [
    "weather_data"
   ]
  },
  {
   "cell_type": "code",
   "execution_count": 5,
   "metadata": {},
   "outputs": [
    {
     "data": {
      "text/html": [
       "<div>\n",
       "<style scoped>\n",
       "    .dataframe tbody tr th:only-of-type {\n",
       "        vertical-align: middle;\n",
       "    }\n",
       "\n",
       "    .dataframe tbody tr th {\n",
       "        vertical-align: top;\n",
       "    }\n",
       "\n",
       "    .dataframe thead th {\n",
       "        text-align: right;\n",
       "    }\n",
       "</style>\n",
       "<table border=\"1\" class=\"dataframe\">\n",
       "  <thead>\n",
       "    <tr style=\"text-align: right;\">\n",
       "      <th></th>\n",
       "      <th>apparent_zenith</th>\n",
       "      <th>zenith</th>\n",
       "      <th>apparent_elevation</th>\n",
       "      <th>elevation</th>\n",
       "      <th>azimuth</th>\n",
       "      <th>equation_of_time</th>\n",
       "    </tr>\n",
       "  </thead>\n",
       "  <tbody>\n",
       "    <tr>\n",
       "      <th>2020-01-01</th>\n",
       "      <td>106.998592</td>\n",
       "      <td>106.998592</td>\n",
       "      <td>-16.998592</td>\n",
       "      <td>-16.998592</td>\n",
       "      <td>110.480089</td>\n",
       "      <td>-3.081724</td>\n",
       "    </tr>\n",
       "    <tr>\n",
       "      <th>2020-01-02</th>\n",
       "      <td>107.096799</td>\n",
       "      <td>107.096799</td>\n",
       "      <td>-17.096799</td>\n",
       "      <td>-17.096799</td>\n",
       "      <td>110.382401</td>\n",
       "      <td>-3.555873</td>\n",
       "    </tr>\n",
       "    <tr>\n",
       "      <th>2020-01-03</th>\n",
       "      <td>107.192842</td>\n",
       "      <td>107.192842</td>\n",
       "      <td>-17.192842</td>\n",
       "      <td>-17.192842</td>\n",
       "      <td>110.276913</td>\n",
       "      <td>-4.024309</td>\n",
       "    </tr>\n",
       "    <tr>\n",
       "      <th>2020-01-04</th>\n",
       "      <td>107.286611</td>\n",
       "      <td>107.286611</td>\n",
       "      <td>-17.286611</td>\n",
       "      <td>-17.286611</td>\n",
       "      <td>110.163675</td>\n",
       "      <td>-4.486515</td>\n",
       "    </tr>\n",
       "    <tr>\n",
       "      <th>2020-01-05</th>\n",
       "      <td>107.377999</td>\n",
       "      <td>107.377999</td>\n",
       "      <td>-17.377999</td>\n",
       "      <td>-17.377999</td>\n",
       "      <td>110.042736</td>\n",
       "      <td>-4.941995</td>\n",
       "    </tr>\n",
       "    <tr>\n",
       "      <th>...</th>\n",
       "      <td>...</td>\n",
       "      <td>...</td>\n",
       "      <td>...</td>\n",
       "      <td>...</td>\n",
       "      <td>...</td>\n",
       "      <td>...</td>\n",
       "    </tr>\n",
       "    <tr>\n",
       "      <th>2022-07-21</th>\n",
       "      <td>98.186342</td>\n",
       "      <td>98.186342</td>\n",
       "      <td>-8.186342</td>\n",
       "      <td>-8.186342</td>\n",
       "      <td>66.646776</td>\n",
       "      <td>-6.427244</td>\n",
       "    </tr>\n",
       "    <tr>\n",
       "      <th>2022-07-22</th>\n",
       "      <td>98.254215</td>\n",
       "      <td>98.254215</td>\n",
       "      <td>-8.254215</td>\n",
       "      <td>-8.254215</td>\n",
       "      <td>66.831438</td>\n",
       "      <td>-6.473273</td>\n",
       "    </tr>\n",
       "    <tr>\n",
       "      <th>2022-07-23</th>\n",
       "      <td>98.321633</td>\n",
       "      <td>98.321633</td>\n",
       "      <td>-8.321633</td>\n",
       "      <td>-8.321633</td>\n",
       "      <td>67.022291</td>\n",
       "      <td>-6.510060</td>\n",
       "    </tr>\n",
       "    <tr>\n",
       "      <th>2022-07-24</th>\n",
       "      <td>98.388526</td>\n",
       "      <td>98.388526</td>\n",
       "      <td>-8.388526</td>\n",
       "      <td>-8.388526</td>\n",
       "      <td>67.219282</td>\n",
       "      <td>-6.537452</td>\n",
       "    </tr>\n",
       "    <tr>\n",
       "      <th>2022-07-25</th>\n",
       "      <td>98.454822</td>\n",
       "      <td>98.454822</td>\n",
       "      <td>-8.454822</td>\n",
       "      <td>-8.454822</td>\n",
       "      <td>67.422358</td>\n",
       "      <td>-6.555303</td>\n",
       "    </tr>\n",
       "  </tbody>\n",
       "</table>\n",
       "<p>937 rows × 6 columns</p>\n",
       "</div>"
      ],
      "text/plain": [
       "            apparent_zenith      zenith  apparent_elevation  elevation  \\\n",
       "2020-01-01       106.998592  106.998592          -16.998592 -16.998592   \n",
       "2020-01-02       107.096799  107.096799          -17.096799 -17.096799   \n",
       "2020-01-03       107.192842  107.192842          -17.192842 -17.192842   \n",
       "2020-01-04       107.286611  107.286611          -17.286611 -17.286611   \n",
       "2020-01-05       107.377999  107.377999          -17.377999 -17.377999   \n",
       "...                     ...         ...                 ...        ...   \n",
       "2022-07-21        98.186342   98.186342           -8.186342  -8.186342   \n",
       "2022-07-22        98.254215   98.254215           -8.254215  -8.254215   \n",
       "2022-07-23        98.321633   98.321633           -8.321633  -8.321633   \n",
       "2022-07-24        98.388526   98.388526           -8.388526  -8.388526   \n",
       "2022-07-25        98.454822   98.454822           -8.454822  -8.454822   \n",
       "\n",
       "               azimuth  equation_of_time  \n",
       "2020-01-01  110.480089         -3.081724  \n",
       "2020-01-02  110.382401         -3.555873  \n",
       "2020-01-03  110.276913         -4.024309  \n",
       "2020-01-04  110.163675         -4.486515  \n",
       "2020-01-05  110.042736         -4.941995  \n",
       "...                ...               ...  \n",
       "2022-07-21   66.646776         -6.427244  \n",
       "2022-07-22   66.831438         -6.473273  \n",
       "2022-07-23   67.022291         -6.510060  \n",
       "2022-07-24   67.219282         -6.537452  \n",
       "2022-07-25   67.422358         -6.555303  \n",
       "\n",
       "[937 rows x 6 columns]"
      ]
     },
     "execution_count": 5,
     "metadata": {},
     "output_type": "execute_result"
    }
   ],
   "source": [
    "solar_position"
   ]
  },
  {
   "cell_type": "code",
   "execution_count": 6,
   "metadata": {},
   "outputs": [
    {
     "data": {
      "text/plain": [
       "2020-01-01    110.480089\n",
       "2020-01-02    110.382401\n",
       "2020-01-03    110.276913\n",
       "2020-01-04    110.163675\n",
       "2020-01-05    110.042736\n",
       "                 ...    \n",
       "2022-07-21     66.646776\n",
       "2022-07-22     66.831438\n",
       "2022-07-23     67.022291\n",
       "2022-07-24     67.219282\n",
       "2022-07-25     67.422358\n",
       "Freq: D, Name: azimuth, Length: 937, dtype: float64"
      ]
     },
     "execution_count": 6,
     "metadata": {},
     "output_type": "execute_result"
    }
   ],
   "source": [
    "solar_panel_azimuth"
   ]
  },
  {
   "cell_type": "code",
   "execution_count": 7,
   "metadata": {},
   "outputs": [
    {
     "data": {
      "text/plain": [
       "<Axes: >"
      ]
     },
     "execution_count": 7,
     "metadata": {},
     "output_type": "execute_result"
    },
    {
     "data": {
      "image/png": "[encoded data removed]",
      "text/plain": [
       "<Figure size 640x480 with 1 Axes>"
      ]
     },
     "metadata": {},
     "output_type": "display_data"
    }
   ],
   "source": [
    "result_df_dynamic['Energy_Generated_KWh'].plot()"
   ]
  },
  {
   "cell_type": "code",
   "execution_count": 7,
   "metadata": {},
   "outputs": [],
   "source": [
    "result_df_dynamic['Energy_Generated_KWh'] = scaler.fit_transform(np.reshape(result_df_dynamic['Energy_Generated_KWh'], (-1,1))) * 5\n",
    "df = result_df_dynamic[\"Temperature_C\"]\n",
    "result_df_dynamic[\"Temperature_C\"] = (df - df.min())*(35-2)/(df.max()-df.min()) + 2"
   ]
  },
  {
   "cell_type": "code",
   "execution_count": 8,
   "metadata": {},
   "outputs": [
    {
     "name": "stdout",
     "output_type": "stream",
     "text": [
      "            Energy_Generated_KWh  Temperature_C\n",
      "2020-01-01              3.687646      12.607143\n",
      "2020-01-02              3.629639      13.196429\n",
      "2020-01-03              3.571416      16.732143\n",
      "2020-01-04              3.513067      17.321429\n",
      "2020-01-05              3.454684      19.089286\n",
      "...                          ...            ...\n",
      "2022-07-21              0.004560      17.616071\n",
      "2022-07-22              0.003392      16.142857\n",
      "2022-07-23              0.003217      15.848214\n",
      "2022-07-24              0.004055      14.964286\n",
      "2022-07-25              0.005924      18.794643\n",
      "\n",
      "[937 rows x 2 columns]\n"
     ]
    }
   ],
   "source": [
    "print(result_df_dynamic)"
   ]
  },
  {
   "cell_type": "code",
   "execution_count": 9,
   "metadata": {},
   "outputs": [],
   "source": [
    "result_df_dynamic.to_csv(\"gen-temp.csv\")"
   ]
  }
 ],
 "metadata": {
  "kernelspec": {
   "display_name": "kaggle",
   "language": "python",
   "name": "python3"
  },
  "language_info": {
   "codemirror_mode": {
    "name": "ipython",
    "version": 3
   },
   "file_extension": ".py",
   "mimetype": "text/x-python",
   "name": "python",
   "nbconvert_exporter": "python",
   "pygments_lexer": "ipython3",
   "version": "3.9.2"
  }
 },
 "nbformat": 4,
 "nbformat_minor": 2
}
