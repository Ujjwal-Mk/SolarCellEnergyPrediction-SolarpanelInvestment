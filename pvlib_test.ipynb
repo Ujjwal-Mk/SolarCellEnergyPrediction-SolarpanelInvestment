{
 "cells": [
  {
   "cell_type": "code",
   "execution_count": 9,
   "metadata": {},
   "outputs": [
    {
     "ename": "TypeError",
     "evalue": "get_total_irradiance() missing 4 required positional arguments: 'solar_azimuth', 'dni', 'ghi', and 'dhi'",
     "output_type": "error",
     "traceback": [
      "\u001b[0;31m---------------------------------------------------------------------------\u001b[0m",
      "\u001b[0;31mTypeError\u001b[0m                                 Traceback (most recent call last)",
      "Cell \u001b[0;32mIn[9], line 26\u001b[0m\n\u001b[1;32m     23\u001b[0m panel_efficiency \u001b[38;5;241m=\u001b[39m \u001b[38;5;241m0.15\u001b[39m  \u001b[38;5;66;03m# Replace with the actual efficiency of your solar panels\u001b[39;00m\n\u001b[1;32m     25\u001b[0m \u001b[38;5;66;03m# Calculate solar radiation\u001b[39;00m\n\u001b[0;32m---> 26\u001b[0m solar_radiation \u001b[38;5;241m=\u001b[39m \u001b[43mpvlib\u001b[49m\u001b[38;5;241;43m.\u001b[39;49m\u001b[43mirradiance\u001b[49m\u001b[38;5;241;43m.\u001b[39;49m\u001b[43mget_total_irradiance\u001b[49m\u001b[43m(\u001b[49m\n\u001b[1;32m     27\u001b[0m \u001b[43m    \u001b[49m\u001b[43msolar_position\u001b[49m\u001b[43m[\u001b[49m\u001b[38;5;124;43m'\u001b[39;49m\u001b[38;5;124;43mapparent_zenith\u001b[39;49m\u001b[38;5;124;43m'\u001b[39;49m\u001b[43m]\u001b[49m\u001b[43m,\u001b[49m\n\u001b[1;32m     28\u001b[0m \u001b[43m    \u001b[49m\u001b[43msolar_position\u001b[49m\u001b[43m[\u001b[49m\u001b[38;5;124;43m'\u001b[39;49m\u001b[38;5;124;43mazimuth\u001b[39;49m\u001b[38;5;124;43m'\u001b[39;49m\u001b[43m]\u001b[49m\u001b[43m,\u001b[49m\n\u001b[1;32m     29\u001b[0m \u001b[43m    \u001b[49m\u001b[43mdate_range\u001b[49m\n\u001b[1;32m     30\u001b[0m \u001b[43m)\u001b[49m\n\u001b[1;32m     32\u001b[0m \u001b[38;5;66;03m# Calculate energy generation\u001b[39;00m\n\u001b[1;32m     33\u001b[0m energy_generation \u001b[38;5;241m=\u001b[39m solar_radiation \u001b[38;5;241m*\u001b[39m panel_efficiency\n",
      "\u001b[0;31mTypeError\u001b[0m: get_total_irradiance() missing 4 required positional arguments: 'solar_azimuth', 'dni', 'ghi', and 'dhi'"
     ]
    }
   ],
   "source": [
    "import pvlib\n",
    "import pandas as pd\n",
    "import matplotlib.pyplot as plt\n",
    "\n",
    "# Specify your location (latitude, longitude, and altitude)\n",
    "latitude = 12.9714  # Latitude for Bangalore, India\n",
    "longitude = 77.5946  # Longitude for Bangalore, India\n",
    "altitude = 920  # Altitude in meters for Bangalore, India\n",
    "\n",
    "# Create a date range\n",
    "date_range = pd.date_range(start='2020-01-01', end='2022-12-31', freq='D')\n",
    "\n",
    "# Calculate solar position\n",
    "solar_position = pvlib.solarposition.get_solarposition(date_range, latitude, longitude, altitude)\n",
    "\n",
    "# Calculate irradiance (assuming a constant value for simplicity)\n",
    "irradiance = pd.Series(800, index=date_range)  # Replace 800 with actual irradiance data\n",
    "\n",
    "# Assume a constant temperature for simplicity\n",
    "temperature = pd.Series(25, index=date_range)  # Replace 25 with actual temperature data\n",
    "\n",
    "# Specify panel efficiency\n",
    "panel_efficiency = 0.15  # Replace with the actual efficiency of your solar panels\n",
    "\n",
    "# Calculate solar radiation\n",
    "solar_radiation = pvlib.irradiance.get_total_irradiance(\n",
    "    solar_position['apparent_zenith'],\n",
    "    solar_position['azimuth'],\n",
    "    date_range\n",
    ")\n",
    "\n",
    "# Calculate energy generation\n",
    "energy_generation = solar_radiation * panel_efficiency\n",
    "\n",
    "# Plot the results\n",
    "plt.plot(date_range, energy_generation)\n",
    "plt.xlabel('Date')\n",
    "plt.ylabel('Energy Generation (kWh)')\n",
    "plt.title('Solar Energy Generation from 2020 to 2022')\n",
    "plt.show()\n"
   ]
  }
 ],
 "metadata": {
  "kernelspec": {
   "display_name": "tf2.13",
   "language": "python",
   "name": "python3"
  },
  "language_info": {
   "codemirror_mode": {
    "name": "ipython",
    "version": 3
   },
   "file_extension": ".py",
   "mimetype": "text/x-python",
   "name": "python",
   "nbconvert_exporter": "python",
   "pygments_lexer": "ipython3",
   "version": "3.9.2"
  }
 },
 "nbformat": 4,
 "nbformat_minor": 2
}
